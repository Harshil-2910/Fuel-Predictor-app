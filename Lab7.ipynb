{
 "cells": [
  {
   "cell_type": "markdown",
   "id": "c7fa1b68",
   "metadata": {},
   "source": [
    "## DAB200 -- Lab 7\n",
    "\n",
    "In this lab, you will gain some experience in dealing with missing data and further practice converting non-numeric features in a dataset to numeric.\n",
    "\n",
    "**Target**: to predict `Comb Unadj FE - Conventional Fuel`\n",
    "\n",
    "**Data set**: will be assigned by the instructor in class"
   ]
  },
  {
   "cell_type": "markdown",
   "id": "a9570520",
   "metadata": {},
   "source": [
    "### Part 0\n",
    "\n",
    "Please provide the following information by editing this cell:\n",
    " - Name:  Harshilkumar Patel\n",
    " - Student Number: 0790476"
   ]
  },
  {
   "cell_type": "markdown",
   "id": "78b40006",
   "metadata": {},
   "source": [
    "### Part 1 - Create and evaluate an initial model\n",
    "\n",
    "In this part you should: \n",
    " \n",
    " - read in the data\n",
    " - isolate all numeric features from original data set\n",
    " - fill in any missing values with 0\n",
    " - create and evaluate an initial model \n",
    " - use 150 decision trees in your random forest model\n",
    "\n",
    "#### Code (10 marks)"
   ]
  },
  {
   "cell_type": "markdown",
   "id": "ec91f948",
   "metadata": {},
   "source": [
    "**Code for reading data:**"
   ]
  },
  {
   "cell_type": "code",
   "execution_count": 54,
   "id": "b0acd877",
   "metadata": {
    "nbgrader": {
     "grade": false,
     "grade_id": "firstThree",
     "locked": false,
     "schema_version": 3,
     "solution": true,
     "task": false
    }
   },
   "outputs": [],
   "source": [
    "import pandas as pd\n",
    "from sklearn.ensemble import RandomForestRegressor\n",
    "from sklearn.metrics import mean_absolute_error, r2_score\n",
    "import numpy as np\n",
    "import category_encoders as ce\n",
    "from statistics import mean\n",
    "from pandas.api.types import is_string_dtype, is_object_dtype\n",
    "from pandas.api.types import is_categorical_dtype\n",
    "data_string = 'veh16_missing.csv'\n",
    "df1 = pd.read_csv(data_string)"
   ]
  },
  {
   "cell_type": "markdown",
   "id": "a865892b",
   "metadata": {},
   "source": [
    "**Code for exploring data:**"
   ]
  },
  {
   "cell_type": "code",
   "execution_count": 55,
   "id": "2b06d258",
   "metadata": {
    "nbgrader": {
     "grade": false,
     "grade_id": "cell-0c9ed26858180220",
     "locked": false,
     "schema_version": 3,
     "solution": true,
     "task": false
    }
   },
   "outputs": [
    {
     "name": "stdout",
     "output_type": "stream",
     "text": [
      "Eng Displ                            0\n",
      "# Cyl                                0\n",
      "Comb Unadj FE - Conventional Fuel    0\n",
      "# Gears                              0\n",
      "Max Ethanol % - Gasoline             0\n",
      "Intake Valves Per Cyl                0\n",
      "Exhaust Valves Per Cyl               0\n",
      "dtype: int64\n"
     ]
    }
   ],
   "source": [
    "# baseline model\n",
    "df_num = df1[['Eng Displ', '# Cyl', 'Comb Unadj FE - Conventional Fuel', '# Gears',\n",
    "       'Max Ethanol % - Gasoline', 'Intake Valves Per Cyl',\n",
    "       'Exhaust Valves Per Cyl']]\n",
    "df_num = df_num.fillna(0) # fill the null value with 0\n",
    "print(df_num.isnull().sum())\n",
    "df_num['Comb Unadj FE - Conventional Fuel'] = df_num['Comb Unadj FE - Conventional Fuel'].replace('Mod',0)"
   ]
  },
  {
   "cell_type": "markdown",
   "id": "efd79b45",
   "metadata": {},
   "source": [
    "#### Create and evaluate an initial model after isolating numeric features:\n",
    "Put all your code inside the following function definition.  \n",
    "\n",
    "Your solution must return:\n",
    "\n",
    "- **first item:** Mean OOB score of 10 runs\n",
    "- **second item:** The last (i.e., the 10th) random forest regressor object (fitted)\n",
    "- **third item:** Feature array\n",
    "- **fourth item:** Target array"
   ]
  },
  {
   "cell_type": "code",
   "execution_count": 56,
   "id": "746ab0a6",
   "metadata": {},
   "outputs": [],
   "source": [
    "def estimate_mean_oob_score_baseline():\n",
    "    ### BEGIN SOLUTION\n",
    "    oob_scores = []\n",
    "    X = df_num.drop('Comb Unadj FE - Conventional Fuel',axis=1) # feature array\n",
    "    y = df_num['Comb Unadj FE - Conventional Fuel'] # Target feature\n",
    "    for i in range(10):\n",
    "        rf = RandomForestRegressor(n_estimators=150, n_jobs=-1, oob_score=True)\n",
    "        rf.fit(X,y)\n",
    "        oob_scores.append(rf.oob_score_)\n",
    "    return mean(oob_scores),rf,X,y\n",
    "    ### END SOLUTION"
   ]
  },
  {
   "cell_type": "markdown",
   "id": "cc693317",
   "metadata": {},
   "source": [
    "**Running the following cell should not throw any error if your code in the cell above is correct.  Do not edit the following cell.**"
   ]
  },
  {
   "cell_type": "code",
   "execution_count": 57,
   "id": "978e6a71",
   "metadata": {
    "nbgrader": {
     "grade": false,
     "grade_id": "cell-728aa3e3806cab0b",
     "locked": false,
     "schema_version": 3,
     "solution": true,
     "task": false
    }
   },
   "outputs": [
    {
     "name": "stdout",
     "output_type": "stream",
     "text": [
      "0.738531602540271 150\n"
     ]
    }
   ],
   "source": [
    "baseline_oob_score, rf, X, y = estimate_mean_oob_score_baseline()\n",
    "\n",
    "num_trees = len(rf.estimators_)\n",
    "\n",
    "print(baseline_oob_score, num_trees)\n",
    "\n",
    "if data_string == 'veh14_missing.csv':\n",
    "    output = 0.696\n",
    "elif  data_string == 'veh15_missing.csv':\n",
    "    output = 0.730\n",
    "elif  data_string == 'veh16_missing.csv':\n",
    "    output = 0.738\n",
    "elif  data_string == 'veh17_missing.csv':\n",
    "    output = 0.721\n",
    "elif  data_string == 'veh18_missing.csv':\n",
    "    output = 0.673\n",
    "elif  data_string == 'veh19_missing.csv':\n",
    "    output = 0.704\n",
    "    \n",
    "\n",
    "if (np.isclose(baseline_oob_score , output, rtol = 0.01) == True) and (num_trees==150):\n",
    "    part1_marks = 10\n",
    "    \n",
    "assert np.isclose(baseline_oob_score , output, rtol = 0.01)"
   ]
  },
  {
   "cell_type": "markdown",
   "id": "88caf31b",
   "metadata": {},
   "source": [
    "### Part 2 - Normalize missing values for string data\n",
    "\n",
    "In this part you should: \n",
    " - use Section 7.4 of the textbook as a guide\n",
    " - convert **all** representations of missing data to a **single** representation\n",
    " \n",
    "#### Code (15 marks)"
   ]
  },
  {
   "cell_type": "markdown",
   "id": "78e6b89e",
   "metadata": {},
   "source": [
    "**Code for exploring missing values:**"
   ]
  },
  {
   "cell_type": "code",
   "execution_count": 58,
   "id": "7cc79f08",
   "metadata": {
    "nbgrader": {
     "grade": false,
     "grade_id": "cell-6cd32b3dc32594ea",
     "locked": false,
     "schema_version": 3,
     "solution": true,
     "task": false
    }
   },
   "outputs": [
    {
     "name": "stdout",
     "output_type": "stream",
     "text": [
      "Trans Creeper Gear ['N' 'Y']\n",
      "Unique Label? ['N' 'Y' nan]\n",
      "Air Aspiration Method Desc ['Naturally Aspirated' 'none given' 'Turbocharged' 'Supercharged'\n",
      " 'Turbocharged+Supercharged']\n",
      "Fuel Metering Sys Desc ['Multipoint/sequential fuel injection' 'Spark Ignition Direct Injection'\n",
      " '@@@@@' 'Spark Ignition direct & ported injection'\n",
      " 'Common Rail Direct Diesel Injection'\n",
      " 'Direct Diesel Injection (non-common rail)']\n",
      "Cyl Deact? ['N' '   ' nan 'Y']\n"
     ]
    }
   ],
   "source": [
    "columns = ['Trans Creeper Gear', 'Unique Label?','Air Aspiration Method Desc', 'Fuel Metering Sys Desc', 'Cyl Deact?']\n",
    "for i in columns:\n",
    "    print(i,df1[i].unique())"
   ]
  },
  {
   "cell_type": "markdown",
   "id": "f3895408",
   "metadata": {},
   "source": [
    "**Code for normalizing missing values:**\n",
    "\n",
    "Put all your code inside the following function definition. "
   ]
  },
  {
   "cell_type": "code",
   "execution_count": 59,
   "id": "bebcd25d",
   "metadata": {
    "nbgrader": {
     "grade": false,
     "grade_id": "cell-053244bf6c663097",
     "locked": false,
     "schema_version": 3,
     "solution": true,
     "task": false
    }
   },
   "outputs": [],
   "source": [
    "def normalize_missing_values():\n",
    "    ### BEGIN SOLUTION\n",
    "    for col in df1.columns:\n",
    "        if is_string_dtype(df1[col]) or is_object_dtype(df1[col]):\n",
    "            df1[col] = df1[col].str.lower() # lower case\n",
    "            df1[col] = df1[col].fillna(np.nan)\n",
    "            df1[col] = df1[col].replace('nan', np.nan)\n",
    "            df1[col] = df1[col].replace('none given', np.nan)\n",
    "            df1[col] = df1[col].replace('@@@@@', np.nan)\n",
    "            df1[col] = df1[col].replace('   ', np.nan)\n",
    "    return df1\n",
    "    \n",
    "    ### END SOLUTION"
   ]
  },
  {
   "cell_type": "markdown",
   "id": "97ab2547",
   "metadata": {},
   "source": [
    "**Running the following cell should not throw any error if your code in the cell above is correct.  Do not edit the following cell.**"
   ]
  },
  {
   "cell_type": "code",
   "execution_count": 60,
   "id": "92f2df9e",
   "metadata": {},
   "outputs": [
    {
     "name": "stdout",
     "output_type": "stream",
     "text": [
      "   Eng Displ  # Cyl Comb Unadj FE - Conventional Fuel  # Gears  \\\n",
      "0        NaN      4                           32.8729        6   \n",
      "1        NaN      4                           41.5766        6   \n",
      "2        1.8      4                           42.3624        6   \n",
      "3        3.5      6                           29.3963        6   \n",
      "4        NaN      6                           25.4694        6   \n",
      "\n",
      "   Max Ethanol % - Gasoline  Intake Valves Per Cyl  Exhaust Valves Per Cyl  \\\n",
      "0                      10.0                      2                       2   \n",
      "1                      10.0                      2                       2   \n",
      "2                      15.0                      2                       2   \n",
      "3                      10.0                      2                       2   \n",
      "4                      85.0                      2                       2   \n",
      "\n",
      "  Trans Creeper Gear Unique Label? Air Aspiration Method Desc  \\\n",
      "0                  n             n        naturally aspirated   \n",
      "1                  n             n                        NaN   \n",
      "2                  n             n                        NaN   \n",
      "3                  n             n                        NaN   \n",
      "4                  n             n        naturally aspirated   \n",
      "\n",
      "                 Fuel Metering Sys Desc Cyl Deact?  \n",
      "0  multipoint/sequential fuel injection          n  \n",
      "1       spark ignition direct injection          n  \n",
      "2  multipoint/sequential fuel injection        NaN  \n",
      "3       spark ignition direct injection        NaN  \n",
      "4  multipoint/sequential fuel injection          n  \n"
     ]
    }
   ],
   "source": [
    "df = normalize_missing_values()\n",
    "\n",
    "print(df.head())\n",
    "\n",
    "vissing_mals = ['not provided', '##-##', '   ', 'none', 'not filled in', '^^', 'unknown', 'XXXXX', \n",
    "                'not specified', '*****', '@@@@@', 'none given', '%%%%%', 'missing', 'mod']\n",
    "\n",
    "col_missing = []\n",
    "\n",
    "for col in df.columns:\n",
    "    col_missing.append(all(df[col].isin(vissing_mals)))\n",
    "    \n",
    "if sum(col_missing) == 0:\n",
    "    part2_marks = 15\n",
    "else:\n",
    "    part2_marks = 0\n",
    "    \n",
    "assert sum(col_missing) == 0"
   ]
  },
  {
   "cell_type": "markdown",
   "id": "4b54b40d",
   "metadata": {},
   "source": [
    "### Part 3 - Encoding Categorical features\n",
    "\n",
    "In this part you should: \n",
    " - use Section 7.5.1 as a guide\n",
    " - only use label encoding \n",
    " - convert **all** non-numeric features to numeric \n",
    " - handle any missing values\n",
    " \n",
    "#### Code (25 marks)"
   ]
  },
  {
   "cell_type": "markdown",
   "id": "e7f9177d",
   "metadata": {},
   "source": [
    "**Provide your code to convert all non-numeric features to numeric using label encoding. Use only `pandas` for encoding (don't use `category encoders`). Make sure that missing values are encoded as zero. All your code must be inside the function below**"
   ]
  },
  {
   "cell_type": "code",
   "execution_count": 61,
   "id": "ef0b7e48",
   "metadata": {
    "nbgrader": {
     "grade": false,
     "grade_id": "cell-b32cb19cd8e0e6fc",
     "locked": false,
     "schema_version": 3,
     "solution": true,
     "task": false
    }
   },
   "outputs": [],
   "source": [
    "def label_encoding_non_numeric_cols():\n",
    "    ### BEGIN SOLUTION\n",
    "    df = normalize_missing_values()\n",
    "    for col in df.columns:\n",
    "        if is_string_dtype(df[col]):\n",
    "            df[col] = df[col].astype('category').cat.as_ordered()\n",
    "    for col in df.columns:\n",
    "        if is_categorical_dtype(df[col]):\n",
    "            df[col] = df[col].cat.codes + 1\n",
    "    return df\n",
    "    ### END SOLUTION"
   ]
  },
  {
   "cell_type": "markdown",
   "id": "82efb2eb",
   "metadata": {},
   "source": [
    "**Running the following cell should not throw any error if your code in the cell above is correct.  Do not edit the following cell.**"
   ]
  },
  {
   "cell_type": "code",
   "execution_count": 62,
   "id": "c9a684fe",
   "metadata": {},
   "outputs": [
    {
     "name": "stdout",
     "output_type": "stream",
     "text": [
      "   Eng Displ  # Cyl  Comb Unadj FE - Conventional Fuel  # Gears  \\\n",
      "0        NaN      4                                580        6   \n",
      "1        NaN      4                                839        6   \n",
      "2        1.8      4                                853        6   \n",
      "3        3.5      6                                439        6   \n",
      "4        NaN      6                                243        6   \n",
      "\n",
      "   Max Ethanol % - Gasoline  Intake Valves Per Cyl  Exhaust Valves Per Cyl  \\\n",
      "0                      10.0                      2                       2   \n",
      "1                      10.0                      2                       2   \n",
      "2                      15.0                      2                       2   \n",
      "3                      10.0                      2                       2   \n",
      "4                      85.0                      2                       2   \n",
      "\n",
      "   Trans Creeper Gear  Unique Label?  Air Aspiration Method Desc  \\\n",
      "0                   1              1                           1   \n",
      "1                   1              1                           0   \n",
      "2                   1              1                           0   \n",
      "3                   1              1                           0   \n",
      "4                   1              1                           1   \n",
      "\n",
      "   Fuel Metering Sys Desc  Cyl Deact?  \n",
      "0                       3           1  \n",
      "1                       5           1  \n",
      "2                       3           0  \n",
      "3                       5           0  \n",
      "4                       3           1  \n"
     ]
    }
   ],
   "source": [
    "df = label_encoding_non_numeric_cols()\n",
    "\n",
    "print(df.head())\n",
    "\n",
    "from pandas.api.types import is_numeric_dtype\n",
    "\n",
    "cols_are_numeric = []\n",
    "for col in df.columns:\n",
    "    if col != 'Comb Unadj FE - Conventional Fuel':\n",
    "        cols_are_numeric.append(is_numeric_dtype(df[col]))\n",
    "    \n",
    "    \n",
    "if (df.shape[1]) - 1 == sum(cols_are_numeric):\n",
    "    part3_marks = 25\n",
    "else:\n",
    "    part3_marks = 0\n",
    "    \n",
    "assert (df.shape[1]) - 1 == sum(cols_are_numeric)"
   ]
  },
  {
   "cell_type": "markdown",
   "id": "bef3b3a5",
   "metadata": {},
   "source": [
    "### Part 4 - Numeric features\n",
    "\n",
    "In this part you should: \n",
    " - use Section 7.5.2 as a guide\n",
    " - handle any missing values\n",
    " \n",
    "#### Code (30 marks)\n",
    "\n",
    "Return only the dataframe"
   ]
  },
  {
   "cell_type": "code",
   "execution_count": 64,
   "id": "669718ec",
   "metadata": {
    "nbgrader": {
     "grade": false,
     "grade_id": "cell-27ce6450652f288c",
     "locked": false,
     "schema_version": 3,
     "solution": true,
     "task": false
    }
   },
   "outputs": [],
   "source": [
    "def fill_missing_vals_num():\n",
    "    ### BEGIN SOLUTION\n",
    "    df = label_encoding_non_numeric_cols()\n",
    "    for colname in df.columns:\n",
    "        df[colname].fillna(df[colname].median(), inplace=True)\n",
    "    return df\n",
    "    ### END SOLUTION"
   ]
  },
  {
   "cell_type": "markdown",
   "id": "6ad9b38b",
   "metadata": {},
   "source": [
    "**Running the following cell should not throw any error if your code in the cell above is correct. Do not edit the following cell.**"
   ]
  },
  {
   "cell_type": "code",
   "execution_count": 65,
   "id": "2907dd1b",
   "metadata": {},
   "outputs": [],
   "source": [
    "df = fill_missing_vals_num()\n",
    "\n",
    "cols_not_null = []\n",
    "for col in df.columns:\n",
    "    cols_not_null.append(sum(pd.isnull(df[col])))\n",
    "    \n",
    "if all(cols_not_null) == 0:\n",
    "    part4_marks = 30\n",
    "else:\n",
    "    part4_marks = 0\n",
    "    \n",
    "assert all(cols_not_null) == 0"
   ]
  },
  {
   "cell_type": "markdown",
   "id": "fd215856",
   "metadata": {},
   "source": [
    "### Part 5 - Create and evaluate a final model\n",
    "\n",
    "In this part you should:\n",
    " - create and evaluate a model using all the features after processing them in Parts 2, 3, and 4 above \n",
    " - use 150 decision trees\n",
    " \n",
    "\n",
    "The following function must return:\n",
    "- **first item:** Mean OOB score of 10 runs\n",
    "- **second item:** The last (i.e., the 10th) random forest regressor object (fitted)\n",
    "- **third item:** Feature array\n",
    "- **fourth item:** Target array\n",
    "\n",
    "#### Code (10 marks)"
   ]
  },
  {
   "cell_type": "code",
   "execution_count": 71,
   "id": "eb91f58b",
   "metadata": {
    "nbgrader": {
     "grade": false,
     "grade_id": "cell-635003fba7148607",
     "locked": false,
     "schema_version": 3,
     "solution": true,
     "task": false
    }
   },
   "outputs": [],
   "source": [
    "def estimate_mean_oob_score_final():\n",
    "    ### BEGIN SOLUTION\n",
    "    df = fill_missing_vals_num()\n",
    "    oob_scores = []\n",
    "    X = df.drop('Comb Unadj FE - Conventional Fuel',axis=1) # feature array\n",
    "    y = df['Comb Unadj FE - Conventional Fuel'] # Target feature\n",
    "    for i in range(10):\n",
    "        rf = RandomForestRegressor(n_estimators=150, n_jobs=-1, oob_score=True)\n",
    "        rf.fit(X,y)\n",
    "        oob_scores.append(rf.oob_score_)\n",
    "    return mean(oob_scores),rf,X,y\n",
    "    ### END SOLUTION"
   ]
  },
  {
   "cell_type": "markdown",
   "id": "79ec53a5",
   "metadata": {},
   "source": [
    "**Running the following cell should not throw any error if your code in the cell above is correct. Do not edit the following cell.**"
   ]
  },
  {
   "cell_type": "code",
   "execution_count": 72,
   "id": "e5e33038",
   "metadata": {},
   "outputs": [
    {
     "name": "stdout",
     "output_type": "stream",
     "text": [
      "0.7995486297360186 150\n"
     ]
    }
   ],
   "source": [
    "final_oob_score, rf, X, y = estimate_mean_oob_score_final()\n",
    "\n",
    "num_trees = len(rf.estimators_)\n",
    "\n",
    "print(final_oob_score, num_trees)\n",
    "\n",
    "if final_oob_score > baseline_oob_score:\n",
    "    part5_marks = 10\n",
    "else:\n",
    "    part5_marks = 0\n",
    "    \n",
    "assert final_oob_score > baseline_oob_score"
   ]
  },
  {
   "cell_type": "code",
   "execution_count": 73,
   "id": "372af3a8",
   "metadata": {},
   "outputs": [
    {
     "data": {
      "text/plain": [
       "90"
      ]
     },
     "execution_count": 73,
     "metadata": {},
     "output_type": "execute_result"
    }
   ],
   "source": [
    "parts_1_to_5_marks = part1_marks + part2_marks + part3_marks + part4_marks + part5_marks\n",
    "parts_1_to_5_marks"
   ]
  },
  {
   "cell_type": "code",
   "execution_count": 77,
   "id": "0c18bcea",
   "metadata": {},
   "outputs": [
    {
     "data": {
      "text/html": [
       "<div>\n",
       "<style scoped>\n",
       "    .dataframe tbody tr th:only-of-type {\n",
       "        vertical-align: middle;\n",
       "    }\n",
       "\n",
       "    .dataframe tbody tr th {\n",
       "        vertical-align: top;\n",
       "    }\n",
       "\n",
       "    .dataframe thead th {\n",
       "        text-align: right;\n",
       "    }\n",
       "</style>\n",
       "<table border=\"1\" class=\"dataframe\">\n",
       "  <thead>\n",
       "    <tr style=\"text-align: right;\">\n",
       "      <th></th>\n",
       "      <th>Eng_Displ</th>\n",
       "      <th>No_Cyl</th>\n",
       "      <th>Comb Unadj FE - Conventional Fuel</th>\n",
       "      <th>No_Gears</th>\n",
       "      <th>Max_Ethanol_Per_Gasoline</th>\n",
       "      <th>Intake_Valves_Per_Cyl</th>\n",
       "      <th>Exhaust_Valves_Per_Cyl</th>\n",
       "      <th>Trans_Creeper_Gear</th>\n",
       "      <th>Unqiue_Labels</th>\n",
       "      <th>Air_Aspiration_Method_Desc</th>\n",
       "      <th>Fuel_Metering_Sys_Desc</th>\n",
       "      <th>Cyl_Deact</th>\n",
       "    </tr>\n",
       "  </thead>\n",
       "  <tbody>\n",
       "    <tr>\n",
       "      <th>0</th>\n",
       "      <td>3.0</td>\n",
       "      <td>4</td>\n",
       "      <td>580</td>\n",
       "      <td>6</td>\n",
       "      <td>10.0</td>\n",
       "      <td>2</td>\n",
       "      <td>2</td>\n",
       "      <td>1</td>\n",
       "      <td>1</td>\n",
       "      <td>1</td>\n",
       "      <td>3</td>\n",
       "      <td>1</td>\n",
       "    </tr>\n",
       "    <tr>\n",
       "      <th>1</th>\n",
       "      <td>3.0</td>\n",
       "      <td>4</td>\n",
       "      <td>839</td>\n",
       "      <td>6</td>\n",
       "      <td>10.0</td>\n",
       "      <td>2</td>\n",
       "      <td>2</td>\n",
       "      <td>1</td>\n",
       "      <td>1</td>\n",
       "      <td>0</td>\n",
       "      <td>5</td>\n",
       "      <td>1</td>\n",
       "    </tr>\n",
       "    <tr>\n",
       "      <th>2</th>\n",
       "      <td>1.8</td>\n",
       "      <td>4</td>\n",
       "      <td>853</td>\n",
       "      <td>6</td>\n",
       "      <td>15.0</td>\n",
       "      <td>2</td>\n",
       "      <td>2</td>\n",
       "      <td>1</td>\n",
       "      <td>1</td>\n",
       "      <td>0</td>\n",
       "      <td>3</td>\n",
       "      <td>0</td>\n",
       "    </tr>\n",
       "    <tr>\n",
       "      <th>3</th>\n",
       "      <td>3.5</td>\n",
       "      <td>6</td>\n",
       "      <td>439</td>\n",
       "      <td>6</td>\n",
       "      <td>10.0</td>\n",
       "      <td>2</td>\n",
       "      <td>2</td>\n",
       "      <td>1</td>\n",
       "      <td>1</td>\n",
       "      <td>0</td>\n",
       "      <td>5</td>\n",
       "      <td>0</td>\n",
       "    </tr>\n",
       "    <tr>\n",
       "      <th>4</th>\n",
       "      <td>3.0</td>\n",
       "      <td>6</td>\n",
       "      <td>243</td>\n",
       "      <td>6</td>\n",
       "      <td>85.0</td>\n",
       "      <td>2</td>\n",
       "      <td>2</td>\n",
       "      <td>1</td>\n",
       "      <td>1</td>\n",
       "      <td>1</td>\n",
       "      <td>3</td>\n",
       "      <td>1</td>\n",
       "    </tr>\n",
       "    <tr>\n",
       "      <th>...</th>\n",
       "      <td>...</td>\n",
       "      <td>...</td>\n",
       "      <td>...</td>\n",
       "      <td>...</td>\n",
       "      <td>...</td>\n",
       "      <td>...</td>\n",
       "      <td>...</td>\n",
       "      <td>...</td>\n",
       "      <td>...</td>\n",
       "      <td>...</td>\n",
       "      <td>...</td>\n",
       "      <td>...</td>\n",
       "    </tr>\n",
       "    <tr>\n",
       "      <th>1208</th>\n",
       "      <td>3.0</td>\n",
       "      <td>8</td>\n",
       "      <td>151</td>\n",
       "      <td>8</td>\n",
       "      <td>15.0</td>\n",
       "      <td>2</td>\n",
       "      <td>2</td>\n",
       "      <td>1</td>\n",
       "      <td>1</td>\n",
       "      <td>0</td>\n",
       "      <td>4</td>\n",
       "      <td>0</td>\n",
       "    </tr>\n",
       "    <tr>\n",
       "      <th>1209</th>\n",
       "      <td>5.0</td>\n",
       "      <td>8</td>\n",
       "      <td>170</td>\n",
       "      <td>8</td>\n",
       "      <td>15.0</td>\n",
       "      <td>2</td>\n",
       "      <td>2</td>\n",
       "      <td>1</td>\n",
       "      <td>1</td>\n",
       "      <td>0</td>\n",
       "      <td>4</td>\n",
       "      <td>1</td>\n",
       "    </tr>\n",
       "    <tr>\n",
       "      <th>1210</th>\n",
       "      <td>3.3</td>\n",
       "      <td>6</td>\n",
       "      <td>288</td>\n",
       "      <td>6</td>\n",
       "      <td>10.0</td>\n",
       "      <td>2</td>\n",
       "      <td>2</td>\n",
       "      <td>1</td>\n",
       "      <td>1</td>\n",
       "      <td>1</td>\n",
       "      <td>5</td>\n",
       "      <td>1</td>\n",
       "    </tr>\n",
       "    <tr>\n",
       "      <th>1211</th>\n",
       "      <td>2.0</td>\n",
       "      <td>4</td>\n",
       "      <td>767</td>\n",
       "      <td>6</td>\n",
       "      <td>10.0</td>\n",
       "      <td>2</td>\n",
       "      <td>2</td>\n",
       "      <td>1</td>\n",
       "      <td>1</td>\n",
       "      <td>0</td>\n",
       "      <td>0</td>\n",
       "      <td>0</td>\n",
       "    </tr>\n",
       "    <tr>\n",
       "      <th>1212</th>\n",
       "      <td>2.7</td>\n",
       "      <td>4</td>\n",
       "      <td>346</td>\n",
       "      <td>6</td>\n",
       "      <td>15.0</td>\n",
       "      <td>2</td>\n",
       "      <td>2</td>\n",
       "      <td>1</td>\n",
       "      <td>1</td>\n",
       "      <td>1</td>\n",
       "      <td>3</td>\n",
       "      <td>0</td>\n",
       "    </tr>\n",
       "  </tbody>\n",
       "</table>\n",
       "<p>1213 rows × 12 columns</p>\n",
       "</div>"
      ],
      "text/plain": [
       "      Eng_Displ  No_Cyl  Comb Unadj FE - Conventional Fuel  No_Gears  \\\n",
       "0           3.0       4                                580         6   \n",
       "1           3.0       4                                839         6   \n",
       "2           1.8       4                                853         6   \n",
       "3           3.5       6                                439         6   \n",
       "4           3.0       6                                243         6   \n",
       "...         ...     ...                                ...       ...   \n",
       "1208        3.0       8                                151         8   \n",
       "1209        5.0       8                                170         8   \n",
       "1210        3.3       6                                288         6   \n",
       "1211        2.0       4                                767         6   \n",
       "1212        2.7       4                                346         6   \n",
       "\n",
       "      Max_Ethanol_Per_Gasoline  Intake_Valves_Per_Cyl  Exhaust_Valves_Per_Cyl  \\\n",
       "0                         10.0                      2                       2   \n",
       "1                         10.0                      2                       2   \n",
       "2                         15.0                      2                       2   \n",
       "3                         10.0                      2                       2   \n",
       "4                         85.0                      2                       2   \n",
       "...                        ...                    ...                     ...   \n",
       "1208                      15.0                      2                       2   \n",
       "1209                      15.0                      2                       2   \n",
       "1210                      10.0                      2                       2   \n",
       "1211                      10.0                      2                       2   \n",
       "1212                      15.0                      2                       2   \n",
       "\n",
       "      Trans_Creeper_Gear  Unqiue_Labels  Air_Aspiration_Method_Desc  \\\n",
       "0                      1              1                           1   \n",
       "1                      1              1                           0   \n",
       "2                      1              1                           0   \n",
       "3                      1              1                           0   \n",
       "4                      1              1                           1   \n",
       "...                  ...            ...                         ...   \n",
       "1208                   1              1                           0   \n",
       "1209                   1              1                           0   \n",
       "1210                   1              1                           1   \n",
       "1211                   1              1                           0   \n",
       "1212                   1              1                           1   \n",
       "\n",
       "      Fuel_Metering_Sys_Desc  Cyl_Deact  \n",
       "0                          3          1  \n",
       "1                          5          1  \n",
       "2                          3          0  \n",
       "3                          5          0  \n",
       "4                          3          1  \n",
       "...                      ...        ...  \n",
       "1208                       4          0  \n",
       "1209                       4          1  \n",
       "1210                       5          1  \n",
       "1211                       0          0  \n",
       "1212                       3          0  \n",
       "\n",
       "[1213 rows x 12 columns]"
      ]
     },
     "execution_count": 77,
     "metadata": {},
     "output_type": "execute_result"
    }
   ],
   "source": [
    "df = fill_missing_vals_num()\n",
    "df.rename(columns = {'Eng Displ' : 'Eng_Displ','# Cyl' : 'No_Cyl', '# Gears' : 'No_Gears', 'Max Ethanol % - Gasoline' : 'Max_Ethanol_Per_Gasoline',\n",
    "              'Air Aspiration Method Desc' : 'Air_Aspiration_Method_Desc', 'Intake Valves Per Cyl' : 'Intake_Valves_Per_Cyl',\n",
    "                'Exhaust Valves Per Cyl' : 'Exhaust_Valves_Per_Cyl', 'Trans Creeper Gear' : 'Trans_Creeper_Gear',\n",
    "                'Unique Label?' : 'Unqiue_Labels', 'Fuel Metering Sys Desc' : 'Fuel_Metering_Sys_Desc', 'Cyl Deact?' : 'Cyl_Deact'})"
   ]
  },
  {
   "cell_type": "code",
   "execution_count": 75,
   "id": "c95cc1d5",
   "metadata": {},
   "outputs": [],
   "source": [
    "import pickle\n",
    "pickle_out = open('rf.pkl','wb')\n",
    "pickle.dump(rf,pickle_out)\n",
    "pickle_out.close()"
   ]
  },
  {
   "cell_type": "code",
   "execution_count": 81,
   "id": "01900c59",
   "metadata": {},
   "outputs": [
    {
     "data": {
      "text/html": [
       "<div>\n",
       "<style scoped>\n",
       "    .dataframe tbody tr th:only-of-type {\n",
       "        vertical-align: middle;\n",
       "    }\n",
       "\n",
       "    .dataframe tbody tr th {\n",
       "        vertical-align: top;\n",
       "    }\n",
       "\n",
       "    .dataframe thead th {\n",
       "        text-align: right;\n",
       "    }\n",
       "</style>\n",
       "<table border=\"1\" class=\"dataframe\">\n",
       "  <thead>\n",
       "    <tr style=\"text-align: right;\">\n",
       "      <th></th>\n",
       "      <th>Eng Displ</th>\n",
       "      <th># Cyl</th>\n",
       "      <th>Comb Unadj FE - Conventional Fuel</th>\n",
       "      <th># Gears</th>\n",
       "      <th>Max Ethanol % - Gasoline</th>\n",
       "      <th>Intake Valves Per Cyl</th>\n",
       "      <th>Exhaust Valves Per Cyl</th>\n",
       "      <th>Trans Creeper Gear</th>\n",
       "      <th>Unique Label?</th>\n",
       "      <th>Air Aspiration Method Desc</th>\n",
       "      <th>Fuel Metering Sys Desc</th>\n",
       "      <th>Cyl Deact?</th>\n",
       "    </tr>\n",
       "  </thead>\n",
       "  <tbody>\n",
       "    <tr>\n",
       "      <th>count</th>\n",
       "      <td>1213.000000</td>\n",
       "      <td>1213.000000</td>\n",
       "      <td>1213.000000</td>\n",
       "      <td>1213.000000</td>\n",
       "      <td>1213.000000</td>\n",
       "      <td>1213.000000</td>\n",
       "      <td>1213.000000</td>\n",
       "      <td>1213.000000</td>\n",
       "      <td>1213.000000</td>\n",
       "      <td>1213.000000</td>\n",
       "      <td>1213.000000</td>\n",
       "      <td>1213.000000</td>\n",
       "    </tr>\n",
       "    <tr>\n",
       "      <th>mean</th>\n",
       "      <td>3.037181</td>\n",
       "      <td>5.629019</td>\n",
       "      <td>451.331410</td>\n",
       "      <td>6.510305</td>\n",
       "      <td>15.453421</td>\n",
       "      <td>1.927453</td>\n",
       "      <td>1.921682</td>\n",
       "      <td>1.001649</td>\n",
       "      <td>1.090684</td>\n",
       "      <td>1.047815</td>\n",
       "      <td>2.901896</td>\n",
       "      <td>0.628195</td>\n",
       "    </tr>\n",
       "    <tr>\n",
       "      <th>std</th>\n",
       "      <td>1.117832</td>\n",
       "      <td>1.846649</td>\n",
       "      <td>264.404057</td>\n",
       "      <td>1.429048</td>\n",
       "      <td>17.216602</td>\n",
       "      <td>0.259499</td>\n",
       "      <td>0.268783</td>\n",
       "      <td>0.040589</td>\n",
       "      <td>0.457811</td>\n",
       "      <td>1.172860</td>\n",
       "      <td>2.121189</td>\n",
       "      <td>0.600684</td>\n",
       "    </tr>\n",
       "    <tr>\n",
       "      <th>min</th>\n",
       "      <td>0.900000</td>\n",
       "      <td>3.000000</td>\n",
       "      <td>1.000000</td>\n",
       "      <td>1.000000</td>\n",
       "      <td>10.000000</td>\n",
       "      <td>1.000000</td>\n",
       "      <td>1.000000</td>\n",
       "      <td>1.000000</td>\n",
       "      <td>0.000000</td>\n",
       "      <td>0.000000</td>\n",
       "      <td>0.000000</td>\n",
       "      <td>0.000000</td>\n",
       "    </tr>\n",
       "    <tr>\n",
       "      <th>25%</th>\n",
       "      <td>2.000000</td>\n",
       "      <td>4.000000</td>\n",
       "      <td>216.000000</td>\n",
       "      <td>6.000000</td>\n",
       "      <td>10.000000</td>\n",
       "      <td>2.000000</td>\n",
       "      <td>2.000000</td>\n",
       "      <td>1.000000</td>\n",
       "      <td>1.000000</td>\n",
       "      <td>0.000000</td>\n",
       "      <td>0.000000</td>\n",
       "      <td>0.000000</td>\n",
       "    </tr>\n",
       "    <tr>\n",
       "      <th>50%</th>\n",
       "      <td>3.000000</td>\n",
       "      <td>6.000000</td>\n",
       "      <td>453.000000</td>\n",
       "      <td>6.000000</td>\n",
       "      <td>10.000000</td>\n",
       "      <td>2.000000</td>\n",
       "      <td>2.000000</td>\n",
       "      <td>1.000000</td>\n",
       "      <td>1.000000</td>\n",
       "      <td>1.000000</td>\n",
       "      <td>3.000000</td>\n",
       "      <td>1.000000</td>\n",
       "    </tr>\n",
       "    <tr>\n",
       "      <th>75%</th>\n",
       "      <td>3.500000</td>\n",
       "      <td>6.000000</td>\n",
       "      <td>672.000000</td>\n",
       "      <td>8.000000</td>\n",
       "      <td>15.000000</td>\n",
       "      <td>2.000000</td>\n",
       "      <td>2.000000</td>\n",
       "      <td>1.000000</td>\n",
       "      <td>1.000000</td>\n",
       "      <td>2.000000</td>\n",
       "      <td>5.000000</td>\n",
       "      <td>1.000000</td>\n",
       "    </tr>\n",
       "    <tr>\n",
       "      <th>max</th>\n",
       "      <td>8.400000</td>\n",
       "      <td>12.000000</td>\n",
       "      <td>930.000000</td>\n",
       "      <td>9.000000</td>\n",
       "      <td>85.000000</td>\n",
       "      <td>2.000000</td>\n",
       "      <td>2.000000</td>\n",
       "      <td>2.000000</td>\n",
       "      <td>2.000000</td>\n",
       "      <td>4.000000</td>\n",
       "      <td>5.000000</td>\n",
       "      <td>2.000000</td>\n",
       "    </tr>\n",
       "  </tbody>\n",
       "</table>\n",
       "</div>"
      ],
      "text/plain": [
       "         Eng Displ        # Cyl  Comb Unadj FE - Conventional Fuel  \\\n",
       "count  1213.000000  1213.000000                        1213.000000   \n",
       "mean      3.037181     5.629019                         451.331410   \n",
       "std       1.117832     1.846649                         264.404057   \n",
       "min       0.900000     3.000000                           1.000000   \n",
       "25%       2.000000     4.000000                         216.000000   \n",
       "50%       3.000000     6.000000                         453.000000   \n",
       "75%       3.500000     6.000000                         672.000000   \n",
       "max       8.400000    12.000000                         930.000000   \n",
       "\n",
       "           # Gears  Max Ethanol % - Gasoline  Intake Valves Per Cyl  \\\n",
       "count  1213.000000               1213.000000            1213.000000   \n",
       "mean      6.510305                 15.453421               1.927453   \n",
       "std       1.429048                 17.216602               0.259499   \n",
       "min       1.000000                 10.000000               1.000000   \n",
       "25%       6.000000                 10.000000               2.000000   \n",
       "50%       6.000000                 10.000000               2.000000   \n",
       "75%       8.000000                 15.000000               2.000000   \n",
       "max       9.000000                 85.000000               2.000000   \n",
       "\n",
       "       Exhaust Valves Per Cyl  Trans Creeper Gear  Unique Label?  \\\n",
       "count             1213.000000         1213.000000    1213.000000   \n",
       "mean                 1.921682            1.001649       1.090684   \n",
       "std                  0.268783            0.040589       0.457811   \n",
       "min                  1.000000            1.000000       0.000000   \n",
       "25%                  2.000000            1.000000       1.000000   \n",
       "50%                  2.000000            1.000000       1.000000   \n",
       "75%                  2.000000            1.000000       1.000000   \n",
       "max                  2.000000            2.000000       2.000000   \n",
       "\n",
       "       Air Aspiration Method Desc  Fuel Metering Sys Desc   Cyl Deact?  \n",
       "count                 1213.000000             1213.000000  1213.000000  \n",
       "mean                     1.047815                2.901896     0.628195  \n",
       "std                      1.172860                2.121189     0.600684  \n",
       "min                      0.000000                0.000000     0.000000  \n",
       "25%                      0.000000                0.000000     0.000000  \n",
       "50%                      1.000000                3.000000     1.000000  \n",
       "75%                      2.000000                5.000000     1.000000  \n",
       "max                      4.000000                5.000000     2.000000  "
      ]
     },
     "execution_count": 81,
     "metadata": {},
     "output_type": "execute_result"
    }
   ],
   "source": [
    "df.describe()"
   ]
  }
 ],
 "metadata": {
  "celltoolbar": "Create Assignment",
  "kernelspec": {
   "display_name": "Python 3 (ipykernel)",
   "language": "python",
   "name": "python3"
  },
  "language_info": {
   "codemirror_mode": {
    "name": "ipython",
    "version": 3
   },
   "file_extension": ".py",
   "mimetype": "text/x-python",
   "name": "python",
   "nbconvert_exporter": "python",
   "pygments_lexer": "ipython3",
   "version": "3.9.13"
  }
 },
 "nbformat": 4,
 "nbformat_minor": 5
}
